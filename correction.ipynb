{
 "cells": [
  {
   "cell_type": "code",
   "execution_count": 1,
   "id": "7638eed6",
   "metadata": {},
   "outputs": [],
   "source": [
    "import os\n",
    "import pandas as pd\n",
    "import glob\n",
    "import csv\n",
    "import SimpleITK as sitk\n",
    "from pathlib import Path"
   ]
  },
  {
   "cell_type": "code",
   "execution_count": 2,
   "id": "7539775e",
   "metadata": {},
   "outputs": [],
   "source": [
    "directories = os.listdir(\"./data\")"
   ]
  },
  {
   "cell_type": "code",
   "execution_count": 8,
   "id": "3cb7cf35",
   "metadata": {},
   "outputs": [
    {
     "name": "stdout",
     "output_type": "stream",
     "text": [
      "200\n",
      "201\n",
      "202\n",
      "203\n",
      "204\n",
      "205\n",
      "206\n",
      "207\n",
      "208\n",
      "209\n",
      "210\n",
      "211\n",
      "212\n",
      "213\n",
      "214\n",
      "215\n",
      "216\n",
      "217\n",
      "218\n",
      "219\n"
     ]
    }
   ],
   "source": [
    "for d in range(200,220):\n",
    "    image = glob.glob(f\"./data/{directories[d]}/*t2.nii.gz\")\n",
    "    label = glob.glob(f\"./data/{directories[d]}/*seg.nii.gz\")\n",
    "    imagePath = os.path.join(os.getcwd(), image[0])\n",
    "    labelPath = os.path.join(os.getcwd(), label[0])\n",
    "\n",
    "    inputImage = sitk.ReadImage(imagePath)\n",
    "    maskImage = sitk.OtsuThreshold(inputImage, 0, 1, 200)\n",
    "    inputImage = sitk.Cast(inputImage, sitk.sitkFloat32)\n",
    "    corrector = sitk.N4BiasFieldCorrectionImageFilter()\n",
    "    output = corrector.Execute(inputImage, maskImage)\n",
    "#     Path(f\"./dataCorrected/{directories[d]}/\").mkdir(parents=True, exist_ok=True)\n",
    "    sitk.WriteImage(output, f\"./dataCorrected/{directories[d]}/{directories[d]}_t2.nii.gz\")\n",
    "    print(d)"
   ]
  },
  {
   "cell_type": "code",
   "execution_count": null,
   "id": "203af1c8",
   "metadata": {},
   "outputs": [],
   "source": [
    "directories[0]"
   ]
  }
 ],
 "metadata": {
  "kernelspec": {
   "display_name": "Python 3",
   "language": "python",
   "name": "python3"
  },
  "language_info": {
   "codemirror_mode": {
    "name": "ipython",
    "version": 3
   },
   "file_extension": ".py",
   "mimetype": "text/x-python",
   "name": "python",
   "nbconvert_exporter": "python",
   "pygments_lexer": "ipython3",
   "version": "3.9.5"
  }
 },
 "nbformat": 4,
 "nbformat_minor": 5
}
